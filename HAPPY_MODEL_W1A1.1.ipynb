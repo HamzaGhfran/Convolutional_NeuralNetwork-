{
 "cells": [
  {
   "cell_type": "markdown",
   "id": "106878a9",
   "metadata": {},
   "source": [
    "## Convolutional Neural Network\n",
    "### Packages\n",
    "Convolutional Assignment 1 Using Tensorflow <br>\n",
    "These are libraries that we are going to use in this assignment not all few of them"
   ]
  },
  {
   "cell_type": "code",
   "execution_count": 1,
   "id": "c2ab2a3f",
   "metadata": {},
   "outputs": [
    {
     "name": "stderr",
     "output_type": "stream",
     "text": [
      "/home/hamza/anaconda3/lib/python3.9/site-packages/scipy/__init__.py:155: UserWarning: A NumPy version >=1.18.5 and <1.25.0 is required for this version of SciPy (detected version 1.26.4\n",
      "  warnings.warn(f\"A NumPy version >={np_minversion} and <{np_maxversion}\"\n",
      "2024-09-24 10:46:18.281812: E external/local_xla/xla/stream_executor/cuda/cuda_fft.cc:485] Unable to register cuFFT factory: Attempting to register factory for plugin cuFFT when one has already been registered\n",
      "2024-09-24 10:46:18.305317: E external/local_xla/xla/stream_executor/cuda/cuda_dnn.cc:8454] Unable to register cuDNN factory: Attempting to register factory for plugin cuDNN when one has already been registered\n",
      "2024-09-24 10:46:18.312981: E external/local_xla/xla/stream_executor/cuda/cuda_blas.cc:1452] Unable to register cuBLAS factory: Attempting to register factory for plugin cuBLAS when one has already been registered\n",
      "2024-09-24 10:46:18.330815: I tensorflow/core/platform/cpu_feature_guard.cc:210] This TensorFlow binary is optimized to use available CPU instructions in performance-critical operations.\n",
      "To enable the following instructions: AVX2 FMA, in other operations, rebuild TensorFlow with the appropriate compiler flags.\n",
      "2024-09-24 10:46:19.832206: W tensorflow/compiler/tf2tensorrt/utils/py_utils.cc:38] TF-TRT Warning: Could not find TensorRT\n"
     ]
    }
   ],
   "source": [
    "import math\n",
    "import numpy as np\n",
    "import h5py\n",
    "import matplotlib.pyplot as plt\n",
    "from matplotlib.pyplot import imread\n",
    "import scipy\n",
    "from PIL import Image\n",
    "import pandas as pd\n",
    "import tensorflow as tf\n",
    "import tensorflow.keras.layers as tfl\n",
    "from tensorflow.python.framework import ops\n",
    "# from cnn_utils import *\n",
    "# from test_utils import summary, comparator\n"
   ]
  },
  {
   "cell_type": "markdown",
   "id": "ff10185d",
   "metadata": {},
   "source": [
    "# Dataset\n",
    "\n",
    "In this Assignment I am using happy house dataset <br>\n",
    "first Load Dataset <br>\n",
    "next Normalize Dataset or preprocess data for training."
   ]
  },
  {
   "cell_type": "code",
   "execution_count": 2,
   "id": "9a218e8c",
   "metadata": {},
   "outputs": [],
   "source": [
    "def load_dataset(path_to_train):\n",
    "    train_dataset = h5py.File(path_to_train)\n",
    "    train_x = np.array(train_dataset['train_set_x'][:])\n",
    "    train_y = np.array(train_dataset['train_set_y'][:])\n",
    "\n",
    "\n",
    "\n",
    "    # y reshaped\n",
    "    train_y = train_y.reshape((1, train_x.shape[0]))\n",
    "\n",
    "    return train_x, train_y, train_dataset"
   ]
  },
  {
   "cell_type": "code",
   "execution_count": 3,
   "id": "d41683b6",
   "metadata": {},
   "outputs": [],
   "source": [
    "train_path = \"images/train_happy.h5\"\n",
    "\n",
    "train_x, train_y, train_dataset = load_dataset(train_path)"
   ]
  },
  {
   "cell_type": "code",
   "execution_count": null,
   "id": "4b8b91ca",
   "metadata": {},
   "outputs": [],
   "source": []
  },
  {
   "cell_type": "code",
   "execution_count": 5,
   "id": "08bad753",
   "metadata": {},
   "outputs": [],
   "source": [
    "train_x = train_x/255"
   ]
  },
  {
   "cell_type": "code",
   "execution_count": 6,
   "id": "941762f3",
   "metadata": {},
   "outputs": [],
   "source": [
    "train_y = train_y.T"
   ]
  },
  {
   "cell_type": "code",
   "execution_count": 26,
   "id": "1596e13b",
   "metadata": {},
   "outputs": [
    {
     "data": {
      "text/plain": [
       "array([0])"
      ]
     },
     "execution_count": 26,
     "metadata": {},
     "output_type": "execute_result"
    }
   ],
   "source": [
    "train_y[0]"
   ]
  },
  {
   "cell_type": "code",
   "execution_count": 4,
   "id": "ac14f58e",
   "metadata": {},
   "outputs": [
    {
     "data": {
      "text/plain": [
       "<matplotlib.image.AxesImage at 0x78f8acb06550>"
      ]
     },
     "execution_count": 4,
     "metadata": {},
     "output_type": "execute_result"
    },
    {
     "data": {
      "image/png": "[encoded data removed]",
      "text/plain": [
       "<Figure size 640x480 with 1 Axes>"
      ]
     },
     "metadata": {},
     "output_type": "display_data"
    }
   ],
   "source": [
    "index = 124\n",
    "plt.imshow(train_x[index])\n"
   ]
  },
  {
   "cell_type": "markdown",
   "id": "06e51ede",
   "metadata": {},
   "source": [
    "# Neural Network\n",
    "Create a method happyModel in which create keras Layers <br>\n",
    "padding --> Conv2D --> BatchnNormalization --> ReLU --> MaxPooling --> FLATTEN --> DENSE <br>\n",
    "\n",
    "padding = (3,3) <br>\n",
    "Conv2D = 32 filters of 7x7 , strides 1x1 --> 1 step right to left and top to bottom movement.<br>\n",
    "BatchNormalization = axis 1<br>\n",
    "MaxPooling2D = 2x2 <br>\n",
    "ReLU <br>\n",
    "Dense Layer = 1 output, activation function for classify image"
   ]
  },
  {
   "cell_type": "code",
   "execution_count": 22,
   "id": "58928e3a",
   "metadata": {},
   "outputs": [],
   "source": [
    "def happyModel():\n",
    "    model = tf.keras.Sequential([\n",
    "        tf.keras.layers.ZeroPadding2D(padding = (3,3), input_shape = (64, 64, 3), data_format = \"channels_last\"),\n",
    "        tf.keras.layers.Conv2D(32, (7, 7), strides = (1, 1), name=\"conv0\"),\n",
    "        tf.keras.layers.BatchNormalization(axis = 1, name = \"bn0\"),\n",
    "        tf.keras.layers.ReLU(max_value = None, negative_slope = 0, threshold = 0.0),\n",
    "        tf.keras.layers.MaxPooling2D((2,2), name = \"max_pool\"),\n",
    "        tf.keras.layers.Flatten(),\n",
    "        tf.keras.layers.Dense(1, activation = \"sigmoid\", name = \"fc\")\n",
    "    ])\n",
    "    return model"
   ]
  },
  {
   "cell_type": "code",
   "execution_count": 23,
   "id": "a8fcbe28",
   "metadata": {},
   "outputs": [],
   "source": [
    "model = happyModel()"
   ]
  },
  {
   "cell_type": "code",
   "execution_count": 25,
   "id": "1c279957",
   "metadata": {},
   "outputs": [],
   "source": [
    "model.compile(optimizer = \"adam\",\n",
    "             loss = \"binary_crossentropy\",\n",
    "             metrics = [\"accuracy\"])"
   ]
  },
  {
   "cell_type": "code",
   "execution_count": 27,
   "id": "9c6dc06b",
   "metadata": {},
   "outputs": [
    {
     "name": "stdout",
     "output_type": "stream",
     "text": [
      "Epoch 1/10\n",
      "\u001b[1m38/38\u001b[0m \u001b[32m━━━━━━━━━━━━━━━━━━━━\u001b[0m\u001b[37m\u001b[0m \u001b[1m7s\u001b[0m 111ms/step - accuracy: 0.5470 - loss: 1.2208\n",
      "Epoch 2/10\n",
      "\u001b[1m38/38\u001b[0m \u001b[32m━━━━━━━━━━━━━━━━━━━━\u001b[0m\u001b[37m\u001b[0m \u001b[1m4s\u001b[0m 109ms/step - accuracy: 0.8419 - loss: 0.3768\n",
      "Epoch 3/10\n",
      "\u001b[1m38/38\u001b[0m \u001b[32m━━━━━━━━━━━━━━━━━━━━\u001b[0m\u001b[37m\u001b[0m \u001b[1m4s\u001b[0m 109ms/step - accuracy: 0.8769 - loss: 0.2849\n",
      "Epoch 4/10\n",
      "\u001b[1m38/38\u001b[0m \u001b[32m━━━━━━━━━━━━━━━━━━━━\u001b[0m\u001b[37m\u001b[0m \u001b[1m4s\u001b[0m 109ms/step - accuracy: 0.9251 - loss: 0.1826\n",
      "Epoch 5/10\n",
      "\u001b[1m38/38\u001b[0m \u001b[32m━━━━━━━━━━━━━━━━━━━━\u001b[0m\u001b[37m\u001b[0m \u001b[1m4s\u001b[0m 108ms/step - accuracy: 0.9493 - loss: 0.1493\n",
      "Epoch 6/10\n",
      "\u001b[1m38/38\u001b[0m \u001b[32m━━━━━━━━━━━━━━━━━━━━\u001b[0m\u001b[37m\u001b[0m \u001b[1m5s\u001b[0m 108ms/step - accuracy: 0.9552 - loss: 0.1188\n",
      "Epoch 7/10\n",
      "\u001b[1m38/38\u001b[0m \u001b[32m━━━━━━━━━━━━━━━━━━━━\u001b[0m\u001b[37m\u001b[0m \u001b[1m4s\u001b[0m 109ms/step - accuracy: 0.9632 - loss: 0.0952\n",
      "Epoch 8/10\n",
      "\u001b[1m38/38\u001b[0m \u001b[32m━━━━━━━━━━━━━━━━━━━━\u001b[0m\u001b[37m\u001b[0m \u001b[1m4s\u001b[0m 108ms/step - accuracy: 0.9532 - loss: 0.1258\n",
      "Epoch 9/10\n",
      "\u001b[1m38/38\u001b[0m \u001b[32m━━━━━━━━━━━━━━━━━━━━\u001b[0m\u001b[37m\u001b[0m \u001b[1m4s\u001b[0m 109ms/step - accuracy: 0.9625 - loss: 0.1277\n",
      "Epoch 10/10\n",
      "\u001b[1m38/38\u001b[0m \u001b[32m━━━━━━━━━━━━━━━━━━━━\u001b[0m\u001b[37m\u001b[0m \u001b[1m4s\u001b[0m 116ms/step - accuracy: 0.9612 - loss: 0.0816\n"
     ]
    },
    {
     "data": {
      "text/plain": [
       "<keras.src.callbacks.history.History at 0x78f8a5bc2b50>"
      ]
     },
     "execution_count": 27,
     "metadata": {},
     "output_type": "execute_result"
    }
   ],
   "source": [
    "model.fit(train_x, train_y, epochs = 10, batch_size = 16)"
   ]
  },
  {
   "cell_type": "code",
   "execution_count": 32,
   "id": "18a82206",
   "metadata": {},
   "outputs": [],
   "source": [
    "def test_dataset(path_to_test):\n",
    "    test_dataset = h5py.File(path_to_test)\n",
    "    test_x = np.array(test_dataset['test_set_x'][:])\n",
    "    test_y = np.array(test_dataset['test_set_y'][:])\n",
    "    \n",
    "    test_y = test_y.reshape((1, test_y.shape[0]))\n",
    "    \n",
    "    return test_x, test_y"
   ]
  },
  {
   "cell_type": "code",
   "execution_count": 33,
   "id": "75dfde68",
   "metadata": {},
   "outputs": [],
   "source": [
    "test_path = \"images/test_happy.h5\"\n",
    "x_test, y_test = test_dataset(test_path)"
   ]
  },
  {
   "cell_type": "code",
   "execution_count": 35,
   "id": "1f94ca6e",
   "metadata": {},
   "outputs": [],
   "source": [
    "x_test = x_test/255"
   ]
  },
  {
   "cell_type": "code",
   "execution_count": 36,
   "id": "7e77947c",
   "metadata": {},
   "outputs": [],
   "source": [
    "y_test = y_test.T"
   ]
  },
  {
   "cell_type": "markdown",
   "id": "3983c12f",
   "metadata": {},
   "source": [
    "# Evaluation\n",
    "evaluation of model on test dataset"
   ]
  },
  {
   "cell_type": "code",
   "execution_count": 37,
   "id": "a60825a9",
   "metadata": {},
   "outputs": [
    {
     "name": "stdout",
     "output_type": "stream",
     "text": [
      "\u001b[1m5/5\u001b[0m \u001b[32m━━━━━━━━━━━━━━━━━━━━\u001b[0m\u001b[37m\u001b[0m \u001b[1m0s\u001b[0m 48ms/step - accuracy: 0.9414 - loss: 0.1558\n"
     ]
    },
    {
     "data": {
      "text/plain": [
       "[0.14246322214603424, 0.9466666579246521]"
      ]
     },
     "execution_count": 37,
     "metadata": {},
     "output_type": "execute_result"
    }
   ],
   "source": [
    "model.evaluate(x_test, y_test)"
   ]
  },
  {
   "cell_type": "markdown",
   "id": "08ffc378",
   "metadata": {},
   "source": [
    "# Confusion Matrix"
   ]
  },
  {
   "cell_type": "code",
   "execution_count": null,
   "id": "9044d7c2",
   "metadata": {},
   "outputs": [],
   "source": []
  }
 ],
 "metadata": {
  "kernelspec": {
   "display_name": "Python 3 (ipykernel)",
   "language": "python",
   "name": "python3"
  },
  "language_info": {
   "codemirror_mode": {
    "name": "ipython",
    "version": 3
   },
   "file_extension": ".py",
   "mimetype": "text/x-python",
   "name": "python",
   "nbconvert_exporter": "python",
   "pygments_lexer": "ipython3",
   "version": "3.9.13"
  }
 },
 "nbformat": 4,
 "nbformat_minor": 5
}
