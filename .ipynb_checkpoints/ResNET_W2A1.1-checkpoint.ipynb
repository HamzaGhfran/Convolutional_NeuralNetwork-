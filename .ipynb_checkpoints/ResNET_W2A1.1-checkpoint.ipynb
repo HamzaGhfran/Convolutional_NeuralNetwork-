{
 "cells": [
  {
   "cell_type": "markdown",
   "id": "7997d972",
   "metadata": {},
   "source": [
    "# ResNET CNN\n",
    "In papers describes as many layer stack in network Accuracy will increase which is not true. <br>\n",
    "As we increase layers in vanish gradient problem occure.<br>\n",
    "Gradient decent decrease exponentially as we backpropogate. <br>\n",
    "As we multiply many weight gradient reach toward Zero which cause early layers weight will change very small amount. <br>\n",
    "Here is example: gradient = w[l-1] * w[l-2] * w[l] ......... w[l] <br>\n",
    "if we multiply small numbers < 1 it create another small number.\n",
    "## ResNET\n",
    "ResNET solve this issue by adding \"skip connection\".\n",
    "Skip Connection create a small path.\n"
   ]
  },
  {
   "cell_type": "code",
   "execution_count": 2,
   "id": "f9fd7b31",
   "metadata": {},
   "outputs": [],
   "source": [
    "import tensorflow as tf\n",
    "import numpy as np\n",
    "import matplotlib.pyplot as plt\n",
    "from PIL import Image\n",
    "import scipy.misc\n",
    "from tensorflow.keras.applications.resnet_v2 import ResNet50V2\n",
    "from tensorflow.keras.preprocessing import image\n",
    "from tensorflow.keras.applications.resnet_v2 import preprocess_input, decode_predictions\n",
    "from tensorflow.keras import layers\n",
    "from tensorflow.keras.layers import Input, Add, Dense, Activation, ZeroPadding2D, BatchNormalization, Flatten, Conv2D, AveragePooling2D, MaxPooling2D, GlobalMaxPooling2D\n",
    "from tensorflow.keras.models import Model, load_model\n",
    "from tensorflow.keras.initializers import random_uniform, glorot_uniform, constant, identity\n",
    "from tensorflow.python.framework.ops import EagerTensor"
   ]
  },
  {
   "cell_type": "markdown",
   "id": "b393b38b",
   "metadata": {},
   "source": [
    "# Identity Block\n",
    "implementation of Identity Block"
   ]
  },
  {
   "cell_type": "code",
   "execution_count": null,
   "id": "45afa1da",
   "metadata": {},
   "outputs": [],
   "source": [
    "def identity_block(X, f, filters, training = True, initializer = random_uniform):\n",
    "    \"\"\"\n",
    "    X --> is input tensor of shape (m, n_H_prev, n_W_prev, n_C_prev)\n",
    "    \n",
    "    \"\"\"\n",
    "    "
   ]
  }
 ],
 "metadata": {
  "kernelspec": {
   "display_name": "Python 3 (ipykernel)",
   "language": "python",
   "name": "python3"
  },
  "language_info": {
   "codemirror_mode": {
    "name": "ipython",
    "version": 3
   },
   "file_extension": ".py",
   "mimetype": "text/x-python",
   "name": "python",
   "nbconvert_exporter": "python",
   "pygments_lexer": "ipython3",
   "version": "3.9.13"
  }
 },
 "nbformat": 4,
 "nbformat_minor": 5
}
